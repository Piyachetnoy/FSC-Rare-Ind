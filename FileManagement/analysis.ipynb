{
 "cells": [
  {
   "cell_type": "code",
   "execution_count": 25,
   "metadata": {},
   "outputs": [
    {
     "name": "stdout",
     "output_type": "stream",
     "text": [
      "Deleting label 2 image and label: 94DD9B86_jpg.rf.60f7b90b1671e75d24421c25f33e090b\n",
      "Deleting label 2 image and label: 13e_jpg.rf.02106e8baaed3b50020695f65eae6eb6\n",
      "Deleting label 2 image and label: 141e_jpg.rf.11f75beb2205ab34294ab34f38e4881d\n",
      "Deleting label 2 image and label: 1E45CAAA_jpg.rf.7af598c27b1eee2f09278133ae814568\n",
      "Deleting label 2 image and label: 353e_jpg.rf.9c0713cd4435e4fcb66bec6b9e3c680a\n",
      "Deleting label 2 image and label: 18C1A02C_jpg.rf.65d208e7d93cf3719fda19fdd6c34422\n",
      "Deleting label 2 image and label: -_20230705011445_png.rf.1876cd782d94c9760a532a9ddd8b17b3\n",
      "Deleting label 2 image and label: -_20230705011736_png.rf.16646a228c83bf9e758bc10aaab82cef\n",
      "Deleting label 2 image and label: 738E01F9_jpg.rf.650f06daf09c594412fa68b69e6eabf1\n",
      "Deleting label 2 image and label: 7EBD1524_jpg.rf.466f47891fc8c4c5c0bb3518aef8d55f\n",
      "Deleting label 2 image and label: 9EA71EB4_jpg.rf.132629207f40b3667d5f7b8d297bb543\n",
      "Deleting label 2 image and label: 144e_jpg.rf.629ec7cbc1956eead9c6ce6e0f23df82\n",
      "Deleting label 2 image and label: 738E01F9_jpg.rf.243bfa525f422a037ebc836a6534f952\n",
      "Deleting label 2 image and label: 62167111_jpg.rf.6ee856c1dc3296febd42c60b64c77530\n",
      "Deleting label 2 image and label: 49AD1015_jpg.rf.ba5d37b8d8a46b26fca84f47196076c5\n",
      "Label 2: 214 files\n",
      "214\n"
     ]
    }
   ],
   "source": [
    "import os\n",
    "import random\n",
    "from collections import defaultdict\n",
    "\n",
    "total = 0\n",
    "images_folder = \"/Users/piyachetnoy/Desktop/repositories/rare-ind-counting/data/indt-objects-V1\"\n",
    "labels_folder = \"/Users/piyachetnoy/Desktop/repositories/rare-ind-counting/data/labels\"\n",
    "\n",
    "image_filenames = {os.path.splitext(f)[0] for f in os.listdir(images_folder) if f.endswith(\".jpg\")}\n",
    "label_counts = defaultdict(int)\n",
    "label_2_files = []\n",
    "\n",
    "# Iterate through the label files\n",
    "for label_file in os.listdir(labels_folder):\n",
    "    if label_file.endswith(\".txt\"):\n",
    "        label_name = os.path.splitext(label_file)[0]\n",
    "        label_path = os.path.join(labels_folder, label_file)\n",
    "        image_path = os.path.join(images_folder, label_name + \".jpg\")\n",
    "        \n",
    "        if label_name not in image_filenames:\n",
    "            print(f\"Deleting unmatched label file: {label_file}\")\n",
    "            os.remove(label_path)\n",
    "        else:\n",
    "            with open(label_path, \"r\") as f:\n",
    "                first_char = f.read(1).strip()\n",
    "                if first_char.isdigit() and int(first_char) == 2:\n",
    "                    label_2_files.append((label_name, label_path, image_path))\n",
    "                    label_counts[2] += 1\n",
    "                    \n",
    "# Randomly select x label 2 files to delete\n",
    "if len(label_2_files) >= 15:\n",
    "    files_to_delete = random.sample(label_2_files, 15)\n",
    "    for label_name, label_path, image_path in files_to_delete:\n",
    "        print(f\"Deleting label 2 image and label: {label_name}\")\n",
    "        os.remove(label_path)\n",
    "        os.remove(image_path)\n",
    "else:\n",
    "    print(\"Not enough label 2 files to delete.\")\n",
    "\n",
    "\n",
    "# Print label counts\n",
    "for label, count in sorted(label_counts.items()):\n",
    "    print(f\"Label {label}: {count} files\")\n",
    "    total += count\n",
    "print(total)\n"
   ]
  },
  {
   "cell_type": "code",
   "execution_count": 26,
   "metadata": {},
   "outputs": [
    {
     "name": "stdout",
     "output_type": "stream",
     "text": [
      "Label 0: 141 files\n",
      "Label 1: 26 files\n",
      "Label 2: 199 files\n",
      "Label 3: 143 files\n",
      "Label 4: 214 files\n",
      "Label 5: 39 files\n",
      "Label 6: 107 files\n",
      "869\n"
     ]
    }
   ],
   "source": [
    "import os\n",
    "from collections import defaultdict\n",
    "total = 0\n",
    "# Define the paths to the images and labels folders\n",
    "images_folder = \"/Users/piyachetnoy/Desktop/repositories/rare-ind-counting/data/indt-objects-V1\"\n",
    "labels_folder = \"/Users/piyachetnoy/Desktop/repositories/rare-ind-counting/data/labels\"\n",
    "\n",
    "# Get the set of image filenames without extension\n",
    "image_filenames = {os.path.splitext(f)[0] for f in os.listdir(images_folder) if f.endswith(\".jpg\")}\n",
    "\n",
    "# Initialize a dictionary to count label occurrences\n",
    "label_counts = defaultdict(int)\n",
    "\n",
    "# Iterate through the label files\n",
    "for label_file in os.listdir(labels_folder):\n",
    "    if label_file.endswith(\".txt\"):\n",
    "        label_name = os.path.splitext(label_file)[0]  # Get filename without extension\n",
    "        label_path = os.path.join(labels_folder, label_file)\n",
    "        \n",
    "        # Check if there is no corresponding image\n",
    "        if label_name not in image_filenames:\n",
    "            print(f\"Deleting unmatched label file: {label_file}\")\n",
    "            os.remove(label_path)\n",
    "        else:\n",
    "            # Read the first character of the file\n",
    "            with open(label_path, \"r\") as f:\n",
    "                first_char = f.read(1).strip()\n",
    "                if first_char.isdigit() and 0 <= int(first_char) <= 6:\n",
    "                    label_counts[int(first_char)] += 1\n",
    "\n",
    "# Print label counts\n",
    "for label, count in sorted(label_counts.items()):\n",
    "    print(f\"Label {label}: {count} files\")\n",
    "    total = total + count\n",
    "print(total)"
   ]
  },
  {
   "cell_type": "code",
   "execution_count": null,
   "metadata": {},
   "outputs": [],
   "source": []
  },
  {
   "cell_type": "code",
   "execution_count": null,
   "metadata": {},
   "outputs": [],
   "source": []
  }
 ],
 "metadata": {
  "kernelspec": {
   "display_name": ".env",
   "language": "python",
   "name": "python3"
  },
  "language_info": {
   "codemirror_mode": {
    "name": "ipython",
    "version": 3
   },
   "file_extension": ".py",
   "mimetype": "text/x-python",
   "name": "python",
   "nbconvert_exporter": "python",
   "pygments_lexer": "ipython3",
   "version": "3.10.11"
  }
 },
 "nbformat": 4,
 "nbformat_minor": 2
}
