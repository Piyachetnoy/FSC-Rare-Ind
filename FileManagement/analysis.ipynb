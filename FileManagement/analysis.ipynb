{
 "cells": [
  {
   "cell_type": "code",
   "execution_count": null,
   "metadata": {},
   "outputs": [
    {
     "name": "stdout",
     "output_type": "stream",
     "text": [
      "Label 0: 141 files\n",
      "Label 1: 26 files\n",
      "Label 2: 414 files\n",
      "Label 3: 223 files\n",
      "Label 4: 294 files\n",
      "Label 5: 39 files\n",
      "Label 6: 107 files\n",
      "1244\n"
     ]
    }
   ],
   "source": [
    "import os\n",
    "import random\n",
    "from collections import defaultdict\n",
    "\n",
    "total = 0\n",
    "images_folder = \"/Users/piyachetnoy/Desktop/repositories/rare-ind-counting/data/indt-objects-V1\"\n",
    "labels_folder = \"/Users/piyachetnoy/Desktop/repositories/rare-ind-counting/data/labels\"\n",
    "\n",
    "image_filenames = {os.path.splitext(f)[0] for f in os.listdir(images_folder) if f.endswith(\".jpg\")}\n",
    "label_counts = defaultdict(int)\n",
    "label_2_files = []\n",
    "\n",
    "# Iterate through the label files\n",
    "for label_file in os.listdir(labels_folder):\n",
    "    if label_file.endswith(\".txt\"):\n",
    "        label_name = os.path.splitext(label_file)[0]\n",
    "        label_path = os.path.join(labels_folder, label_file)\n",
    "        image_path = os.path.join(images_folder, label_name + \".jpg\")\n",
    "        \n",
    "        if label_name not in image_filenames:\n",
    "            print(f\"Deleting unmatched label file: {label_file}\")\n",
    "            os.remove(label_path)\n",
    "        else:\n",
    "            with open(label_path, \"r\") as f:\n",
    "                first_char = f.read(1).strip()\n",
    "                if first_char.isdigit() and int(first_char) == 2:\n",
    "                    label_2_files.append((label_name, label_path, image_path))\n",
    "                    label_counts[2] += 1\n",
    "                    \n",
    "# Randomly select x label 2 files to delete\n",
    "if len(label_2_files) >= 100:\n",
    "    files_to_delete = random.sample(label_2_files, 100)\n",
    "    for label_name, label_path, image_path in files_to_delete:\n",
    "        print(f\"Deleting label 2 image and label: {label_name}\")\n",
    "        os.remove(label_path)\n",
    "        os.remove(image_path)\n",
    "else:\n",
    "    print(\"Not enough label 2 files to delete.\")\n",
    "\n",
    "# Print label counts\n",
    "for label, count in sorted(label_counts.items()):\n",
    "    print(f\"Label {label}: {count} files\")\n",
    "    total += count\n",
    "print(total)\n"
   ]
  },
  {
   "cell_type": "code",
   "execution_count": null,
   "metadata": {},
   "outputs": [],
   "source": []
  }
 ],
 "metadata": {
  "kernelspec": {
   "display_name": ".env",
   "language": "python",
   "name": "python3"
  },
  "language_info": {
   "codemirror_mode": {
    "name": "ipython",
    "version": 3
   },
   "file_extension": ".py",
   "mimetype": "text/x-python",
   "name": "python",
   "nbconvert_exporter": "python",
   "pygments_lexer": "ipython3",
   "version": "3.10.11"
  }
 },
 "nbformat": 4,
 "nbformat_minor": 2
}
