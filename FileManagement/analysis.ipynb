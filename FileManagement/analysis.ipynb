{
 "cells": [
  {
   "cell_type": "code",
   "execution_count": 15,
   "metadata": {},
   "outputs": [
    {
     "name": "stdout",
     "output_type": "stream",
     "text": [
      "Label 0: 141 files\n",
      "Label 1: 26 files\n",
      "Label 2: 567 files\n",
      "Label 3: 254 files\n",
      "Label 4: 294 files\n",
      "Label 5: 39 files\n",
      "Label 6: 129 files\n",
      "1450\n"
     ]
    }
   ],
   "source": [
    "import os\n",
    "from collections import defaultdict\n",
    "total = 0\n",
    "# Define the paths to the images and labels folders\n",
    "images_folder = \"data/indt-objects-V1\"\n",
    "labels_folder = \"data/labels\"\n",
    "\n",
    "# Get the set of image filenames without extension\n",
    "image_filenames = {os.path.splitext(f)[0] for f in os.listdir(images_folder) if f.endswith(\".jpg\")}\n",
    "\n",
    "# Initialize a dictionary to count label occurrences\n",
    "label_counts = defaultdict(int)\n",
    "\n",
    "# Iterate through the label files\n",
    "for label_file in os.listdir(labels_folder):\n",
    "    if label_file.endswith(\".txt\"):\n",
    "        label_name = os.path.splitext(label_file)[0]  # Get filename without extension\n",
    "        label_path = os.path.join(labels_folder, label_file)\n",
    "        \n",
    "        # Check if there is no corresponding image\n",
    "        if label_name not in image_filenames:\n",
    "            print(f\"Deleting unmatched label file: {label_file}\")\n",
    "            os.remove(label_path)\n",
    "        else:\n",
    "            # Read the first character of the file\n",
    "            with open(label_path, \"r\") as f:\n",
    "                first_char = f.read(1).strip()\n",
    "                if first_char.isdigit() and 0 <= int(first_char) <= 6:\n",
    "                    label_counts[int(first_char)] += 1\n",
    "\n",
    "# Print label counts\n",
    "for label, count in sorted(label_counts.items()):\n",
    "    print(f\"Label {label}: {count} files\")\n",
    "    total = total + count\n",
    "print(total)"
   ]
  },
  {
   "cell_type": "code",
   "execution_count": null,
   "metadata": {},
   "outputs": [],
   "source": []
  }
 ],
 "metadata": {
  "kernelspec": {
   "display_name": ".env",
   "language": "python",
   "name": "python3"
  },
  "language_info": {
   "codemirror_mode": {
    "name": "ipython",
    "version": 3
   },
   "file_extension": ".py",
   "mimetype": "text/x-python",
   "name": "python",
   "nbconvert_exporter": "python",
   "pygments_lexer": "ipython3",
   "version": "3.10.11"
  }
 },
 "nbformat": 4,
 "nbformat_minor": 2
}
