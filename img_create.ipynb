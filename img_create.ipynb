{
 "cells": [
  {
   "cell_type": "code",
   "execution_count": null,
   "metadata": {},
   "outputs": [],
   "source": [
    "import numpy as np\n",
    "import matplotlib.pyplot as plt\n",
    "\n",
    "# Generate a random numpy array with multiple local minima\n",
    "array = np.random.rand(100)\n",
    "array[50:60] -= 1\n",
    "array[20:30] -= 1\n",
    "\n",
    "# Find local minima\n",
    "local_minima = np.where(np.diff(np.sign(np.diff(array))) == -2)[0] + 1\n",
    "\n",
    "# Plot the array and highlight local minima\n",
    "plt.plot(array)\n",
    "plt.scatter(local_minima, array[local_minima], color='red', marker='o')\n",
    "plt.savefig(\"local_minima_complicated_with_dots.png\")\n"
   ]
  },
  {
   "cell_type": "code",
   "execution_count": null,
   "metadata": {},
   "outputs": [],
   "source": []
  }
 ],
 "metadata": {
  "kernelspec": {
   "display_name": ".env",
   "language": "python",
   "name": "python3"
  },
  "language_info": {
   "codemirror_mode": {
    "name": "ipython",
    "version": 3
   },
   "file_extension": ".py",
   "mimetype": "text/x-python",
   "name": "python",
   "nbconvert_exporter": "python",
   "pygments_lexer": "ipython3",
   "version": "3.10.11"
  }
 },
 "nbformat": 4,
 "nbformat_minor": 2
}
